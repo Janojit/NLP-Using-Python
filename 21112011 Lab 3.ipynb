{
 "cells": [
  {
   "cell_type": "markdown",
   "id": "a727f940",
   "metadata": {},
   "source": [
    "# LAB 3: Write a program to program to tokenize Non-English Languages\n",
    "## Name: Janojit Chakraborty\n",
    "## Registration Number: 21112011"
   ]
  },
  {
   "cell_type": "markdown",
   "id": "2e17db14",
   "metadata": {},
   "source": [
    "Name: **Janojit Chakraborty** <br>\n",
    "Reg No: **21112011** <br>\n",
    "Class: **5 BSC DS** <br>\n",
    "\n",
    "---------------\n",
    "\n",
    "\n",
    "| Question | Status |\n",
    "| --- | --- |\n",
    "|  1  | __Completed__ |\n",
    "|  2  | __Completed__ |"
   ]
  },
  {
   "cell_type": "markdown",
   "id": "878e9442",
   "metadata": {},
   "source": [
    "---------------"
   ]
  },
  {
   "cell_type": "markdown",
   "id": "96c6a044",
   "metadata": {},
   "source": [
    "### Question 1: To tokenize the document (article, news, story, assay) of Indian Language and find the frequency count. "
   ]
  },
  {
   "cell_type": "markdown",
   "id": "3a1008d3",
   "metadata": {},
   "source": [
    "#### Reading A Bengali Text PDF File"
   ]
  },
  {
   "cell_type": "code",
   "execution_count": 1,
   "id": "02220eec",
   "metadata": {},
   "outputs": [
    {
     "name": "stdout",
     "output_type": "stream",
     "text": [
      "সুভাষ  চন্দ্র ব াস : এক মহান  স্বাধীনতা  বসনাপতত  \n",
      " \n",
      "সুভাষ  চন্দ্র ব াস   াঙাতি  স্বাধীনতা  সংগ্রামমর  একজন  অমূিয  বনতা , যার স্বপ্ন তিি ভারমতর  মুক্তি  এ ং  \n",
      "স্বাধীনতা। তততন  ওত়িশা  রামজয  জন্মগ্রহণ  কমরন , এ ং  তার জী মন  বয সময়  আমস  বসই  সময়টি  ভারত  \n",
      "সাম্রামজযর   ৃক্তির  সময়। \n",
      " \n",
      "সুভাষ  চন্দ্র ব ামসর   ৃক্তি  হি বেমশর  স্বাধীনতা  ি়িাইময়  বযাগ  বেওয়া , বযটি   ৃক্তি  কমর  বগমিা   াঙাতি  \n",
      "স্বাধীনতা  আমদািমন  এ ং  ভারমতর  স্বাধীনতা  সংগ্রামম। তততন  অে্ভুত স্বাধীনতা  যাত্রায়  বযাগ  বেন , এ ং  \n",
      "সুভাষ  চন্দ্র ব ামসর  বজা়িক  তহমসম  তার  াতষ ি কী  উেযাপমন  তামক  স্মরণ  করা  হয়। \n",
      " \n",
      "সুভাষ  চন্দ্র ব াস  সাতহমতযর  প্রতত প্র ৃক্তির  অল্পসমময়  তার তশক্ষামক্ষমত্র  অ োন  কমরন , এ ং  তার \n",
      "রাজননততক  েক্ষতা  বসই  সমময়  উজ্জীত ত  হয়। তততন  বনতৃমে একটি  প্রততস্থান  অজিন  কমরন , এ ং  তার \n",
      "েক্ষতা  ও স্বাধীনতা  ভ মন   াঙাতি  সম্প্রীত  তিি। \n",
      " \n",
      "সুভাষ  চন্দ্র ব ামসর  জী মন  বসই  অে্ভুত প্রততশ্রুততর  অেযততত  সংগঠন , সমর্ ি ন  ও সমর্ ি ন  রময়মি , যা \n",
      "তামক  একজন  অমূিয  স্বাধীনতা  বসনাপতত  ও  াঙাতি  গ ি করামত  সাহাযয  কমর। সুভাষ  চন্দ্র ব ামসর  প্রতত  \n",
      "আমামের  শ্রিা  এ ং  শ্রিাঞ্জতি  সোই  তনরঞ্জন। \n"
     ]
    }
   ],
   "source": [
    "import PyPDF2\n",
    "\n",
    "with open('সুভাষ চন্দ্র বোস.pdf', 'rb') as pdf_file:\n",
    "    pdf_reader = PyPDF2.PdfFileReader(pdf_file)\n",
    "\n",
    "    bengali_text = ''\n",
    "\n",
    "    for page_num in range(pdf_reader.numPages):\n",
    "        page = pdf_reader.getPage(page_num)\n",
    "        page_text = page.extractText()\n",
    "\n",
    "        bengali_text += page_text\n",
    "\n",
    "print(bengali_text)"
   ]
  },
  {
   "cell_type": "markdown",
   "id": "71e3403c",
   "metadata": {},
   "source": [
    "#### Tokenization and Word Frequency Count"
   ]
  },
  {
   "cell_type": "code",
   "execution_count": 2,
   "id": "b20c50ed",
   "metadata": {},
   "outputs": [
    {
     "name": "stdout",
     "output_type": "stream",
     "text": [
      "স্বাধীনতা: 9\n",
      ",: 8\n",
      "।: 8\n",
      "সুভাষ: 7\n",
      "চন্দ্র: 7\n",
      "ব: 7\n",
      "এ: 7\n",
      "ং: 7\n",
      "তার: 5\n",
      "াঙাতি: 4\n",
      "ামসর: 4\n",
      "ি: 4\n",
      "াস: 3\n",
      "তততন: 3\n",
      "কমরন: 3\n",
      "মন: 3\n",
      "বসই: 3\n",
      "ও: 3\n",
      "বসনাপতত: 2\n",
      "একজন: 2\n",
      "অমূিয: 2\n",
      "তিি: 2\n",
      "ভারমতর: 2\n",
      "জী: 2\n",
      "সময়: 2\n",
      "ৃক্তির: 2\n",
      "ৃক্তি: 2\n",
      "বযাগ: 2\n",
      "কমর: 2\n",
      "অে্ভুত: 2\n",
      "তামক: 2\n",
      "হয়: 2\n",
      "প্রতত: 2\n",
      "েক্ষতা: 2\n",
      "সমর্: 2\n",
      "ন: 2\n",
      ":: 1\n",
      "এক: 1\n",
      "মহান: 1\n",
      "সংগ্রামমর: 1\n",
      "বনতা: 1\n",
      "যার: 1\n",
      "স্বপ্ন: 1\n",
      "মুক্তি: 1\n",
      "ওত়িশা: 1\n",
      "রামজয: 1\n",
      "জন্মগ্রহণ: 1\n",
      "বয: 1\n",
      "আমস: 1\n",
      "সময়টি: 1\n",
      "ভারত: 1\n",
      "সাম্রামজযর: 1\n",
      "হি: 1\n",
      "বেমশর: 1\n",
      "ি়িাইময়: 1\n",
      "বেওয়া: 1\n",
      "বযটি: 1\n",
      "বগমিা: 1\n",
      "আমদািমন: 1\n",
      "সংগ্রামম: 1\n",
      "যাত্রায়: 1\n",
      "বেন: 1\n",
      "বজা়িক: 1\n",
      "তহমসম: 1\n",
      "াতষ: 1\n",
      "কী: 1\n",
      "উেযাপমন: 1\n",
      "স্মরণ: 1\n",
      "করা: 1\n",
      "সাতহমতযর: 1\n",
      "প্র: 1\n",
      "অল্পসমময়: 1\n",
      "তশক্ষামক্ষমত্র: 1\n",
      "অ: 1\n",
      "োন: 1\n",
      "রাজননততক: 1\n",
      "সমময়: 1\n",
      "উজ্জীত: 1\n",
      "ত: 1\n",
      "বনতৃমে: 1\n",
      "একটি: 1\n",
      "প্রততস্থান: 1\n",
      "অজিন: 1\n",
      "ভ: 1\n",
      "সম্প্রীত: 1\n",
      "প্রততশ্রুততর: 1\n",
      "অেযততত: 1\n",
      "সংগঠন: 1\n",
      "রময়মি: 1\n",
      "যা: 1\n",
      "গ: 1\n",
      "করামত: 1\n",
      "সাহাযয: 1\n",
      "আমামের: 1\n",
      "শ্রিা: 1\n",
      "শ্রিাঞ্জতি: 1\n",
      "সোই: 1\n",
      "তনরঞ্জন: 1\n"
     ]
    }
   ],
   "source": [
    "from bnlp import BasicTokenizer\n",
    "from collections import Counter\n",
    "\n",
    "tokenizer = BasicTokenizer()\n",
    "\n",
    "tokens = tokenizer.tokenize(bengali_text)\n",
    "\n",
    "token_freq = Counter(tokens)\n",
    "\n",
    "for token, freq in token_freq.most_common():\n",
    "    print(f\"{token}: {freq}\")"
   ]
  },
  {
   "cell_type": "code",
   "execution_count": 3,
   "id": "b98e2303",
   "metadata": {},
   "outputs": [],
   "source": [
    "from nltk.probability import FreqDist\n",
    "\n",
    "def calculate_word_frequency(tokens):\n",
    "    freq_dist = FreqDist(tokens)\n",
    "    return freq_dist"
   ]
  },
  {
   "cell_type": "code",
   "execution_count": 4,
   "id": "74d18676",
   "metadata": {},
   "outputs": [],
   "source": [
    "word_freq_dist = calculate_word_frequency(tokens)"
   ]
  },
  {
   "cell_type": "markdown",
   "id": "4ddd984d",
   "metadata": {},
   "source": [
    "#### Graphical Representation of Word Count"
   ]
  },
  {
   "cell_type": "code",
   "execution_count": 5,
   "id": "6248aaa0",
   "metadata": {},
   "outputs": [],
   "source": [
    "import matplotlib.pyplot as plt\n",
    "\n",
    "def plot_word_frequency(freq_dist, num_words):\n",
    "    freq_dist.plot(num_words, cumulative=False)\n",
    "    plt.show()"
   ]
  },
  {
   "cell_type": "code",
   "execution_count": 6,
   "id": "8bcad09f",
   "metadata": {},
   "outputs": [
    {
     "data": {
      "image/png": "[encoded data removed]",
      "text/plain": [
       "<Figure size 432x288 with 1 Axes>"
      ]
     },
     "metadata": {
      "needs_background": "light"
     },
     "output_type": "display_data"
    }
   ],
   "source": [
    "plot_word_frequency(word_freq_dist, 10)"
   ]
  },
  {
   "cell_type": "code",
   "execution_count": 7,
   "id": "19e08757",
   "metadata": {},
   "outputs": [
    {
     "data": {
      "image/png": "[encoded data removed]",
      "text/plain": [
       "<Figure size 720x432 with 1 Axes>"
      ]
     },
     "metadata": {
      "needs_background": "light"
     },
     "output_type": "display_data"
    }
   ],
   "source": [
    "import matplotlib.pyplot as plt\n",
    "\n",
    "top_10_tokens = token_freq.most_common(10)\n",
    "top_tokens, frequencies = zip(*top_10_tokens)\n",
    "\n",
    "plt.figure(figsize=(10, 6))\n",
    "plt.barh(top_tokens, frequencies, color='skyblue')\n",
    "plt.xlabel('Frequency')\n",
    "plt.ylabel('Tokens')\n",
    "plt.title('Top 10 Most Frequent Bengali Words')\n",
    "plt.gca().invert_yaxis()\n",
    "plt.show()"
   ]
  },
  {
   "cell_type": "markdown",
   "id": "8625667a",
   "metadata": {},
   "source": [
    "### Question 2: To tokenize the document (article, news, story, assay) of Forighn Language and find the frequency count."
   ]
  },
  {
   "cell_type": "markdown",
   "id": "962d4227",
   "metadata": {},
   "source": [
    "#### Reading A French Text PDF File"
   ]
  },
  {
   "cell_type": "code",
   "execution_count": 8,
   "id": "b5e98166",
   "metadata": {},
   "outputs": [
    {
     "name": "stdout",
     "output_type": "stream",
     "text": [
      "Number of Pages: 28\n",
      "From which page: 2\n",
      "To which page: 3\n"
     ]
    }
   ],
   "source": [
    "import PyPDF2\n",
    "\n",
    "pdfFileObj = open(\"FKB-Prathams-Biju-fait-de-la-magie-Biju-Spins-Some-Magic-French.pdf\", 'rb')\n",
    "\n",
    "pdfReader = PyPDF2.PdfFileReader(pdfFileObj)\n",
    "\n",
    "print(f\"Number of Pages: {pdfReader.numPages}\")\n",
    "\n",
    "french_text = \"\"\n",
    "\n",
    "fr = int(input(\"From which page: \"))\n",
    "to = int(input(\"To which page: \"))\n",
    "for i in range(fr,to):\n",
    "    page = pdfReader.pages[i]\n",
    "    pageObj = page.extractText()\n",
    "    french_text += pageObj\n",
    "\n",
    "pdfFileObj.close()"
   ]
  },
  {
   "cell_type": "code",
   "execution_count": 9,
   "id": "d44d9dd0",
   "metadata": {},
   "outputs": [
    {
     "name": "stdout",
     "output_type": "stream",
     "text": [
      "Comme les autres enfants de son village, Biju n'est jamais allé à l'école. Il\n",
      "veut étudier mais ses parents pensent différemment. Ils disent que c’est\n",
      "inutile  d'apprendre des choses qui n'ont rien à faire avec leur métier de\n",
      "tisseurs. Il penserait à des choses futiles s’il allait à l’école et rêverait de\n",
      "travailler dans un bureau.\n",
      " \n",
      "Alors Biju essaie de se convaincre que l'école n'est pas amusante du tout\n",
      "parce que les garçons qui y vont mènent une vie misérable et doivent\n",
      "porter de lourds sacs remplis de livres. Le frère de son ami n’a pas trouvé\n",
      "d’emploi, malgré le fait qu’il avait obtenu un «diplôme universitaire» après\n",
      "avoir fréquenté une école. Il est allé à Mumbai pour chercher un travail,\n",
      "mais ils lui ont offert des emplois dans un salon de thé, des kiosques à\n",
      "journaux et l’emploi d’un concierge. Alors, Il est rentré chez lui et aide\n",
      "maintenant son père à tisser des saris d’ikat, qu'il emporte de temps en\n",
      "temps à Mumbai pour les vendre à un grossiste.\n",
      "3/24\n"
     ]
    }
   ],
   "source": [
    "print(french_text)"
   ]
  },
  {
   "cell_type": "markdown",
   "id": "a6e260d8",
   "metadata": {},
   "source": [
    "#### Tokenization and Word Frequency Count"
   ]
  },
  {
   "cell_type": "code",
   "execution_count": 10,
   "id": "34d13f31",
   "metadata": {},
   "outputs": [
    {
     "name": "stdout",
     "output_type": "stream",
     "text": [
      "\n",
      ": 13\n",
      ".: 8\n",
      ",: 6\n",
      "école: 4\n",
      "Biju: 2\n",
      "allé: 2\n",
      "choses: 2\n",
      "emploi: 2\n",
      "Mumbai: 2\n",
      "temps: 2\n",
      "enfants: 1\n",
      "village: 1\n",
      "jamais: 1\n",
      "veut: 1\n",
      "étudier: 1\n",
      "parents: 1\n",
      "pensent: 1\n",
      "différemment: 1\n",
      "disent: 1\n",
      "inutile: 1\n",
      " : 1\n",
      "apprendre: 1\n",
      "rien: 1\n",
      "faire: 1\n",
      "métier: 1\n",
      "tisseurs: 1\n",
      "penserait: 1\n",
      "futiles: 1\n",
      "allait: 1\n",
      "rêverait: 1\n",
      "travailler: 1\n",
      "bureau: 1\n",
      "\n",
      " \n",
      ": 1\n",
      "essaie: 1\n",
      "convaincre: 1\n",
      "amusante: 1\n",
      "garçons: 1\n",
      "mènent: 1\n",
      "vie: 1\n",
      "misérable: 1\n",
      "porter: 1\n",
      "lourds: 1\n",
      "sacs: 1\n",
      "remplis: 1\n",
      "livres: 1\n",
      "frère: 1\n",
      "ami: 1\n",
      "trouvé: 1\n",
      "obtenu: 1\n",
      "«: 1\n",
      "diplôme: 1\n",
      "universitaire: 1\n",
      "»: 1\n",
      "fréquenté: 1\n",
      "chercher: 1\n",
      "travail: 1\n",
      "offert: 1\n",
      "emplois: 1\n",
      "salon: 1\n",
      "thé: 1\n",
      "kiosques: 1\n",
      "journaux: 1\n",
      "concierge: 1\n",
      "rentré: 1\n",
      "aide: 1\n",
      "père: 1\n",
      "tisser: 1\n",
      "saris: 1\n",
      "ikat: 1\n",
      "emporte: 1\n",
      "vendre: 1\n",
      "grossiste: 1\n",
      "3/24: 1\n"
     ]
    }
   ],
   "source": [
    "import spacy\n",
    "from collections import Counter\n",
    "\n",
    "nlp = spacy.load(\"fr_core_news_sm\")\n",
    "\n",
    "doc = nlp(french_text)\n",
    "\n",
    "french_stopwords = spacy.lang.fr.stop_words.STOP_WORDS\n",
    "\n",
    "filtered_words = [token.text for token in doc if token.text.lower() not in french_stopwords]\n",
    "word_freq = Counter(filtered_words)\n",
    "\n",
    "for word, freq in word_freq.most_common():\n",
    "    print(f\"{word}: {freq}\")"
   ]
  },
  {
   "cell_type": "markdown",
   "id": "bfa5a828",
   "metadata": {},
   "source": [
    "#### Graphical Representation of Word Count"
   ]
  },
  {
   "cell_type": "code",
   "execution_count": 11,
   "id": "e71cb1aa",
   "metadata": {},
   "outputs": [
    {
     "data": {
      "image/png": "[encoded data removed]",
      "text/plain": [
       "<Figure size 720x432 with 1 Axes>"
      ]
     },
     "metadata": {
      "needs_background": "light"
     },
     "output_type": "display_data"
    }
   ],
   "source": [
    "import matplotlib.pyplot as plt\n",
    "\n",
    "top_10_words = word_freq.most_common(10)\n",
    "top_tokens, frequencies = zip(*top_10_tokens)\n",
    "\n",
    "plt.figure(figsize=(10, 6))\n",
    "plt.barh(top_tokens, frequencies, color='skyblue')\n",
    "plt.xlabel('Frequency')\n",
    "plt.ylabel('Tokens')\n",
    "plt.title('Top 10 Most Frequent Bengali Words')\n",
    "plt.gca().invert_yaxis()\n",
    "plt.show()"
   ]
  }
 ],
 "metadata": {
  "kernelspec": {
   "display_name": "Python 3",
   "language": "python",
   "name": "python3"
  },
  "language_info": {
   "codemirror_mode": {
    "name": "ipython",
    "version": 3
   },
   "file_extension": ".py",
   "mimetype": "text/x-python",
   "name": "python",
   "nbconvert_exporter": "python",
   "pygments_lexer": "ipython3",
   "version": "3.8.8"
  }
 },
 "nbformat": 4,
 "nbformat_minor": 5
}
